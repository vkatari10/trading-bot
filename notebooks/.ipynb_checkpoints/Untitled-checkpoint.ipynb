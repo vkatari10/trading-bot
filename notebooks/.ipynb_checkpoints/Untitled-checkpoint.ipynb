{
 "cells": [
  {
   "cell_type": "markdown",
   "id": "ca4c4d67-685c-4626-be7a-8b24bac2c685",
   "metadata": {},
   "source": [
    "# Technical Indicators\n",
    "Contained in `src/strategies/backtesting.py` is the file that utilizes the `backtrader` library. We can use this library to prove the effectiveness of the strategy and mirror this onto the `DataFrame` in the `model_testing` using the same library to mark \"buy\" and \"sell\" signals and train the ML models on."
   ]
  },
  {
   "cell_type": "code",
   "execution_count": 6,
   "id": "9c5e497f-3df9-464a-844e-58225f33afbf",
   "metadata": {},
   "outputs": [],
   "source": [
    "import yfinance as yf\n",
    "import backtrader as bt\n",
    "import pandas as pd\n",
    "import numpy as np"
   ]
  },
  {
   "cell_type": "code",
   "execution_count": 11,
   "id": "920825f2-4e35-40cc-bc33-27e6b6417e5b",
   "metadata": {},
   "outputs": [
    {
     "name": "stderr",
     "output_type": "stream",
     "text": [
      "[*********************100%***********************]  1 of 1 completed\n",
      "\n",
      "1 Failed download:\n",
      "['APPL']: YFPricesMissingError('possibly delisted; no price data found  (1d 2010-01-01 -> 2025-05-09)')\n"
     ]
    },
    {
     "ename": "AttributeError",
     "evalue": "'tuple' object has no attribute 'lower'",
     "output_type": "error",
     "traceback": [
      "\u001b[31m---------------------------------------------------------------------------\u001b[39m",
      "\u001b[31mAttributeError\u001b[39m                            Traceback (most recent call last)",
      "\u001b[36mCell\u001b[39m\u001b[36m \u001b[39m\u001b[32mIn[11]\u001b[39m\u001b[32m, line 37\u001b[39m\n\u001b[32m     34\u001b[39m cerebro.adddata(data)  \u001b[38;5;66;03m# Add the data feed\u001b[39;00m\n\u001b[32m     36\u001b[39m cerebro.addstrategy(SmaCross)  \u001b[38;5;66;03m# Add the trading strategy\u001b[39;00m\n\u001b[32m---> \u001b[39m\u001b[32m37\u001b[39m \u001b[43mcerebro\u001b[49m\u001b[43m.\u001b[49m\u001b[43mrun\u001b[49m\u001b[43m(\u001b[49m\u001b[43m)\u001b[49m  \u001b[38;5;66;03m# run it all\u001b[39;00m\n\u001b[32m     38\u001b[39m cerebro.plot()  \u001b[38;5;66;03m# and plot it with a single command\u001b[39;00m\n",
      "\u001b[36mFile \u001b[39m\u001b[32m~/projects/trading-bot/venv/lib/python3.12/site-packages/backtrader/cerebro.py:1132\u001b[39m, in \u001b[36mCerebro.run\u001b[39m\u001b[34m(self, **kwargs)\u001b[39m\n\u001b[32m   1128\u001b[39m \u001b[38;5;28;01mif\u001b[39;00m \u001b[38;5;129;01mnot\u001b[39;00m \u001b[38;5;28mself\u001b[39m._dooptimize \u001b[38;5;129;01mor\u001b[39;00m \u001b[38;5;28mself\u001b[39m.p.maxcpus == \u001b[32m1\u001b[39m:\n\u001b[32m   1129\u001b[39m     \u001b[38;5;66;03m# If no optimmization is wished ... or 1 core is to be used\u001b[39;00m\n\u001b[32m   1130\u001b[39m     \u001b[38;5;66;03m# let's skip process \"spawning\"\u001b[39;00m\n\u001b[32m   1131\u001b[39m     \u001b[38;5;28;01mfor\u001b[39;00m iterstrat \u001b[38;5;129;01min\u001b[39;00m iterstrats:\n\u001b[32m-> \u001b[39m\u001b[32m1132\u001b[39m         runstrat = \u001b[38;5;28;43mself\u001b[39;49m\u001b[43m.\u001b[49m\u001b[43mrunstrategies\u001b[49m\u001b[43m(\u001b[49m\u001b[43miterstrat\u001b[49m\u001b[43m)\u001b[49m\n\u001b[32m   1133\u001b[39m         \u001b[38;5;28mself\u001b[39m.runstrats.append(runstrat)\n\u001b[32m   1134\u001b[39m         \u001b[38;5;28;01mif\u001b[39;00m \u001b[38;5;28mself\u001b[39m._dooptimize:\n",
      "\u001b[36mFile \u001b[39m\u001b[32m~/projects/trading-bot/venv/lib/python3.12/site-packages/backtrader/cerebro.py:1215\u001b[39m, in \u001b[36mCerebro.runstrategies\u001b[39m\u001b[34m(self, iterstrat, predata)\u001b[39m\n\u001b[32m   1213\u001b[39m \u001b[38;5;28;01mif\u001b[39;00m \u001b[38;5;28mself\u001b[39m._exactbars < \u001b[32m1\u001b[39m:  \u001b[38;5;66;03m# datas can be full length\u001b[39;00m\n\u001b[32m   1214\u001b[39m     data.extend(size=\u001b[38;5;28mself\u001b[39m.params.lookahead)\n\u001b[32m-> \u001b[39m\u001b[32m1215\u001b[39m \u001b[43mdata\u001b[49m\u001b[43m.\u001b[49m\u001b[43m_start\u001b[49m\u001b[43m(\u001b[49m\u001b[43m)\u001b[49m\n\u001b[32m   1216\u001b[39m \u001b[38;5;28;01mif\u001b[39;00m \u001b[38;5;28mself\u001b[39m._dopreload:\n\u001b[32m   1217\u001b[39m     data.preload()\n",
      "\u001b[36mFile \u001b[39m\u001b[32m~/projects/trading-bot/venv/lib/python3.12/site-packages/backtrader/feed.py:203\u001b[39m, in \u001b[36mAbstractDataBase._start\u001b[39m\u001b[34m(self)\u001b[39m\n\u001b[32m    202\u001b[39m \u001b[38;5;28;01mdef\u001b[39;00m\u001b[38;5;250m \u001b[39m\u001b[34m_start\u001b[39m(\u001b[38;5;28mself\u001b[39m):\n\u001b[32m--> \u001b[39m\u001b[32m203\u001b[39m     \u001b[38;5;28;43mself\u001b[39;49m\u001b[43m.\u001b[49m\u001b[43mstart\u001b[49m\u001b[43m(\u001b[49m\u001b[43m)\u001b[49m\n\u001b[32m    205\u001b[39m     \u001b[38;5;28;01mif\u001b[39;00m \u001b[38;5;129;01mnot\u001b[39;00m \u001b[38;5;28mself\u001b[39m._started:\n\u001b[32m    206\u001b[39m         \u001b[38;5;28mself\u001b[39m._start_finish()\n",
      "\u001b[36mFile \u001b[39m\u001b[32m~/projects/trading-bot/venv/lib/python3.12/site-packages/backtrader/feeds/pandafeed.py:212\u001b[39m, in \u001b[36mPandasData.start\u001b[39m\u001b[34m(self)\u001b[39m\n\u001b[32m    210\u001b[39m \u001b[38;5;66;03m# Transform names (valid for .ix) into indices (good for .iloc)\u001b[39;00m\n\u001b[32m    211\u001b[39m \u001b[38;5;28;01mif\u001b[39;00m \u001b[38;5;28mself\u001b[39m.p.nocase:\n\u001b[32m--> \u001b[39m\u001b[32m212\u001b[39m     colnames = [\u001b[43mx\u001b[49m\u001b[43m.\u001b[49m\u001b[43mlower\u001b[49m() \u001b[38;5;28;01mfor\u001b[39;00m x \u001b[38;5;129;01min\u001b[39;00m \u001b[38;5;28mself\u001b[39m.p.dataname.columns.values]\n\u001b[32m    213\u001b[39m \u001b[38;5;28;01melse\u001b[39;00m:\n\u001b[32m    214\u001b[39m     colnames = [x \u001b[38;5;28;01mfor\u001b[39;00m x \u001b[38;5;129;01min\u001b[39;00m \u001b[38;5;28mself\u001b[39m.p.dataname.columns.values]\n",
      "\u001b[31mAttributeError\u001b[39m: 'tuple' object has no attribute 'lower'"
     ]
    }
   ],
   "source": [
    "from datetime import datetime\n",
    "import backtrader as bt\n",
    "\n",
    "# Create a subclass of Strategy to define the indicators and logic\n",
    "\n",
    "class SmaCross(bt.Strategy):\n",
    "    # list of parameters which are configurable for the strategy\n",
    "    params = dict(\n",
    "        pfast=10,  # period for the fast moving average\n",
    "        pslow=30   # period for the slow moving average\n",
    "    )\n",
    "\n",
    "    def __init__(self):\n",
    "        sma1 = bt.ind.SMA(period=self.p.pfast)  # fast moving average\n",
    "        sma2 = bt.ind.SMA(period=self.p.pslow)  # slow moving average\n",
    "        self.crossover = bt.ind.CrossOver(sma1, sma2)  # crossover signal\n",
    "\n",
    "    def next(self):\n",
    "        if not self.position:  # not in the market\n",
    "            if self.crossover > 0:  # if fast crosses slow to the upside\n",
    "                self.buy()  # enter long\n",
    "\n",
    "        elif self.crossover < 0:  # in the market & cross to the downside\n",
    "            self.close()  # close long position\n",
    "\n",
    "\n",
    "cerebro = bt.Cerebro()  # create a \"Cerebro\" engine instance\n",
    "\n",
    "\n",
    "df = yf.download(\"APPL\", start=\"2010-01-01\")\n",
    "# Create a data feed\n",
    "data = bt.feeds.PandasData(dataname=df)\n",
    "\n",
    "cerebro.adddata(data)  # Add the data feed\n",
    "\n",
    "cerebro.addstrategy(SmaCross)  # Add the trading strategy\n",
    "cerebro.run()  # run it all\n",
    "cerebro.plot()  # and plot it with a single command"
   ]
  },
  {
   "cell_type": "code",
   "execution_count": null,
   "id": "39fbf051-f292-48cb-b489-21f533e33e21",
   "metadata": {},
   "outputs": [],
   "source": []
  }
 ],
 "metadata": {
  "kernelspec": {
   "display_name": "Python 3 (ipykernel)",
   "language": "python",
   "name": "python3"
  },
  "language_info": {
   "codemirror_mode": {
    "name": "ipython",
    "version": 3
   },
   "file_extension": ".py",
   "mimetype": "text/x-python",
   "name": "python",
   "nbconvert_exporter": "python",
   "pygments_lexer": "ipython3",
   "version": "3.12.3"
  }
 },
 "nbformat": 4,
 "nbformat_minor": 5
}
